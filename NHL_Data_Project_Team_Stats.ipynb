{
  "nbformat": 4,
  "nbformat_minor": 0,
  "metadata": {
    "colab": {
      "name": "NHL Data Project - Team Stats.ipynb",
      "provenance": [],
      "collapsed_sections": [],
      "include_colab_link": true
    },
    "kernelspec": {
      "display_name": "Python 3",
      "language": "python",
      "name": "python3"
    },
    "language_info": {
      "codemirror_mode": {
        "name": "ipython",
        "version": 3
      },
      "file_extension": ".py",
      "mimetype": "text/x-python",
      "name": "python",
      "nbconvert_exporter": "python",
      "pygments_lexer": "ipython3",
      "version": "3.7.3"
    }
  },
  "cells": [
    {
      "cell_type": "markdown",
      "metadata": {
        "id": "view-in-github",
        "colab_type": "text"
      },
      "source": [
        "<a href=\"https://colab.research.google.com/github/npgeorge/DS-Unit-2-Applied-Modeling/blob/master/NHL_Data_Project_Team_Stats.ipynb\" target=\"_parent\"><img src=\"https://colab.research.google.com/assets/colab-badge.svg\" alt=\"Open In Colab\"/></a>"
      ]
    },
    {
      "cell_type": "markdown",
      "metadata": {
        "id": "RH-SQ-cfj9BI",
        "colab_type": "text"
      },
      "source": [
        "#Answers\n",
        "\n",
        "Choose your target. Which column in your tabular dataset will you predict?\n",
        "\n",
        "I will predict on the \"outcome\" column for the Boston Bruins first, and apply that model to all teams.\n",
        "\n",
        "Is your problem regression or classification?\n",
        "\n",
        "Regression, win or loss is binary. I could try classification as well. \n",
        "\n",
        "How is your target distributed?\n",
        "\n",
        "Regression: Is the target right-skewed? If so, you may want to log transform the target. TBD. \n",
        "\n",
        "\n",
        "Choose which observations you will use to train, validate, and test your model.\n",
        "\n",
        "    - Are some observations outliers? Will you exclude them? TBD\n",
        "    - Will you do a random split or a time-based split? Random. \n",
        "\n",
        "\n",
        "Choose your evaluation metric(s).\n",
        "    - Classification: Is your majority class frequency > 50% and < 70% ? If so, you can just use accuracy if you want. Outside that range, accuracy could be misleading. What evaluation metric will you choose, in addition to or instead of accuracy?\n",
        "- Begin to clean and explore your data.\n",
        "- Begin to choose which features, if any, to exclude. Would some features \"leak\" future information?"
      ]
    },
    {
      "cell_type": "code",
      "metadata": {
        "id": "sB5a_oDsDemj",
        "colab_type": "code",
        "colab": {}
      },
      "source": [
        "#use first principles to figure out end data frame\n",
        "#what are the foundational differences, keep it small, build from there.\n",
        "\n",
        "#due to the many data frames, my goal is to build one comprehensive data frame\n",
        "#this one data frame will be used to try to predict who will win each game.\n",
        "\n",
        "#target\n",
        "#'outcome' column from the game csv\n",
        "\n",
        "#regression\n",
        "#win, loss, or tie will numerically represented\n",
        "\n",
        "#target distribution\n",
        "#need to explore\n",
        "\n",
        "#I will train/test/val on each season separately.\n",
        "#If this doesn't work, I will try multiple seasons at a time. \n",
        "#Perhaps a 'returning_players' parameter giving a % of how many players stay YoY could be useful\n",
        "\n"
      ],
      "execution_count": 0,
      "outputs": []
    },
    {
      "cell_type": "code",
      "metadata": {
        "id": "yklRxcFUQn-0",
        "colab_type": "code",
        "colab": {}
      },
      "source": [
        "import pandas as pd\n",
        "import matplotlib.pyplot as plt\n",
        "import numpy as np\n",
        "import seaborn as sns"
      ],
      "execution_count": 0,
      "outputs": []
    },
    {
      "cell_type": "code",
      "metadata": {
        "id": "9YB8A9Hvx3bn",
        "colab_type": "code",
        "colab": {}
      },
      "source": [
        "# Code to read csv file into colaboratory:\n",
        "!pip install -U -q PyDrive\n",
        "from pydrive.auth import GoogleAuth\n",
        "from pydrive.drive import GoogleDrive\n",
        "from google.colab import auth\n",
        "from oauth2client.client import GoogleCredentials"
      ],
      "execution_count": 0,
      "outputs": []
    },
    {
      "cell_type": "code",
      "metadata": {
        "id": "m9Yd-0MNx56z",
        "colab_type": "code",
        "colab": {}
      },
      "source": [
        "#Step 2 to authenticate\n",
        "auth.authenticate_user()\n",
        "gauth = GoogleAuth()\n",
        "gauth.credentials = GoogleCredentials.get_application_default()\n",
        "drive = GoogleDrive(gauth)"
      ],
      "execution_count": 0,
      "outputs": []
    },
    {
      "cell_type": "code",
      "metadata": {
        "id": "CnsnF5ETx9wi",
        "colab_type": "code",
        "colab": {}
      },
      "source": [
        "#2.1 Get the file id from shareable link in drive\n",
        "downloaded = drive.CreateFile({'id':'1djfcENPCc0lXD088bVQnkxwpXFHDnfHi'}) # replace the id with id of file you want to access\n",
        "downloaded.GetContentFile('game_teams_stats.csv')\n",
        "df = pd.read_csv('game_teams_stats.csv') "
      ],
      "execution_count": 0,
      "outputs": []
    },
    {
      "cell_type": "code",
      "metadata": {
        "id": "43PUS3_LGcJC",
        "colab_type": "code",
        "outputId": "9f01a9f6-1bb6-49c6-c672-fd3cf70228fc",
        "colab": {
          "base_uri": "https://localhost:8080/",
          "height": 197
        }
      },
      "source": [
        "df.head()"
      ],
      "execution_count": 20,
      "outputs": [
        {
          "output_type": "execute_result",
          "data": {
            "text/html": [
              "<div>\n",
              "<style scoped>\n",
              "    .dataframe tbody tr th:only-of-type {\n",
              "        vertical-align: middle;\n",
              "    }\n",
              "\n",
              "    .dataframe tbody tr th {\n",
              "        vertical-align: top;\n",
              "    }\n",
              "\n",
              "    .dataframe thead th {\n",
              "        text-align: right;\n",
              "    }\n",
              "</style>\n",
              "<table border=\"1\" class=\"dataframe\">\n",
              "  <thead>\n",
              "    <tr style=\"text-align: right;\">\n",
              "      <th></th>\n",
              "      <th>game_id</th>\n",
              "      <th>team_id</th>\n",
              "      <th>HoA</th>\n",
              "      <th>won</th>\n",
              "      <th>settled_in</th>\n",
              "      <th>head_coach</th>\n",
              "      <th>goals</th>\n",
              "      <th>shots</th>\n",
              "      <th>hits</th>\n",
              "      <th>pim</th>\n",
              "      <th>powerPlayOpportunities</th>\n",
              "      <th>powerPlayGoals</th>\n",
              "      <th>faceOffWinPercentage</th>\n",
              "      <th>giveaways</th>\n",
              "      <th>takeaways</th>\n",
              "    </tr>\n",
              "  </thead>\n",
              "  <tbody>\n",
              "    <tr>\n",
              "      <th>0</th>\n",
              "      <td>2011030221</td>\n",
              "      <td>1</td>\n",
              "      <td>away</td>\n",
              "      <td>False</td>\n",
              "      <td>OT</td>\n",
              "      <td>Peter DeBoer</td>\n",
              "      <td>3</td>\n",
              "      <td>26</td>\n",
              "      <td>31</td>\n",
              "      <td>12</td>\n",
              "      <td>3</td>\n",
              "      <td>1</td>\n",
              "      <td>44.9</td>\n",
              "      <td>6</td>\n",
              "      <td>7</td>\n",
              "    </tr>\n",
              "    <tr>\n",
              "      <th>1</th>\n",
              "      <td>2011030221</td>\n",
              "      <td>4</td>\n",
              "      <td>home</td>\n",
              "      <td>True</td>\n",
              "      <td>OT</td>\n",
              "      <td>Peter Laviolette</td>\n",
              "      <td>4</td>\n",
              "      <td>36</td>\n",
              "      <td>27</td>\n",
              "      <td>6</td>\n",
              "      <td>6</td>\n",
              "      <td>1</td>\n",
              "      <td>55.1</td>\n",
              "      <td>13</td>\n",
              "      <td>4</td>\n",
              "    </tr>\n",
              "    <tr>\n",
              "      <th>2</th>\n",
              "      <td>2011030222</td>\n",
              "      <td>1</td>\n",
              "      <td>away</td>\n",
              "      <td>True</td>\n",
              "      <td>REG</td>\n",
              "      <td>Peter DeBoer</td>\n",
              "      <td>4</td>\n",
              "      <td>35</td>\n",
              "      <td>32</td>\n",
              "      <td>12</td>\n",
              "      <td>4</td>\n",
              "      <td>0</td>\n",
              "      <td>50.9</td>\n",
              "      <td>8</td>\n",
              "      <td>7</td>\n",
              "    </tr>\n",
              "    <tr>\n",
              "      <th>3</th>\n",
              "      <td>2011030222</td>\n",
              "      <td>4</td>\n",
              "      <td>home</td>\n",
              "      <td>False</td>\n",
              "      <td>REG</td>\n",
              "      <td>Peter Laviolette</td>\n",
              "      <td>1</td>\n",
              "      <td>20</td>\n",
              "      <td>24</td>\n",
              "      <td>32</td>\n",
              "      <td>5</td>\n",
              "      <td>0</td>\n",
              "      <td>49.1</td>\n",
              "      <td>9</td>\n",
              "      <td>6</td>\n",
              "    </tr>\n",
              "    <tr>\n",
              "      <th>4</th>\n",
              "      <td>2011030223</td>\n",
              "      <td>4</td>\n",
              "      <td>away</td>\n",
              "      <td>False</td>\n",
              "      <td>OT</td>\n",
              "      <td>Peter Laviolette</td>\n",
              "      <td>3</td>\n",
              "      <td>28</td>\n",
              "      <td>28</td>\n",
              "      <td>4</td>\n",
              "      <td>5</td>\n",
              "      <td>1</td>\n",
              "      <td>50.8</td>\n",
              "      <td>2</td>\n",
              "      <td>1</td>\n",
              "    </tr>\n",
              "  </tbody>\n",
              "</table>\n",
              "</div>"
            ],
            "text/plain": [
              "      game_id  team_id   HoA  ...  faceOffWinPercentage giveaways takeaways\n",
              "0  2011030221        1  away  ...                  44.9         6         7\n",
              "1  2011030221        4  home  ...                  55.1        13         4\n",
              "2  2011030222        1  away  ...                  50.9         8         7\n",
              "3  2011030222        4  home  ...                  49.1         9         6\n",
              "4  2011030223        4  away  ...                  50.8         2         1\n",
              "\n",
              "[5 rows x 15 columns]"
            ]
          },
          "metadata": {
            "tags": []
          },
          "execution_count": 20
        }
      ]
    },
    {
      "cell_type": "code",
      "metadata": {
        "id": "T2UF-9RINr-C",
        "colab_type": "code",
        "outputId": "0c890517-da14-483d-d681-15ddfa299dc6",
        "colab": {
          "base_uri": "https://localhost:8080/",
          "height": 34
        }
      },
      "source": [
        "#bruins\n",
        "#if a model works for one team, it *could* work broadly for others\n",
        "#this may turn out to be a bad assumption\n",
        "#this filter returns the df for the Bruins\n",
        "#or statement for home and away games\n",
        "\n",
        "bruins_id_condition = df['team_id'] == 6 #(df['home_team_id'] == 6) | (df['away_team_id'] == 6)\n",
        "df_bruins = df[bruins_id_condition]\n",
        "df_bruins.shape"
      ],
      "execution_count": 21,
      "outputs": [
        {
          "output_type": "execute_result",
          "data": {
            "text/plain": [
              "(812, 15)"
            ]
          },
          "metadata": {
            "tags": []
          },
          "execution_count": 21
        }
      ]
    },
    {
      "cell_type": "code",
      "metadata": {
        "id": "j6KgJEhHObeR",
        "colab_type": "code",
        "colab": {
          "base_uri": "https://localhost:8080/",
          "height": 70
        },
        "outputId": "8f826dc1-c772-4cee-a9d7-870ca96218d8"
      },
      "source": [
        "#baseline, can we beat the Bruins baseline target?\n",
        "baseline_target = 'won'\n",
        "y_baseline = df_bruins[baseline_target]\n",
        "y_baseline.value_counts(normalize=True) "
      ],
      "execution_count": 22,
      "outputs": [
        {
          "output_type": "execute_result",
          "data": {
            "text/plain": [
              "True     0.57266\n",
              "False    0.42734\n",
              "Name: won, dtype: float64"
            ]
          },
          "metadata": {
            "tags": []
          },
          "execution_count": 22
        }
      ]
    },
    {
      "cell_type": "code",
      "metadata": {
        "id": "f7mqqtEs58eZ",
        "colab_type": "code",
        "outputId": "74b46612-0ac8-43dc-adf5-8b57c1f268b0",
        "colab": {
          "base_uri": "https://localhost:8080/",
          "height": 34
        }
      },
      "source": [
        "import pandas as pd\n",
        "from sklearn.model_selection import train_test_split\n",
        "#train, test\n",
        "train, test = train_test_split(df_bruins, \n",
        "                               train_size=0.80, \n",
        "                               test_size=0.20,\n",
        "                               stratify=df_bruins['won'], \n",
        "                               random_state=42)\n",
        "train.shape, test.shape"
      ],
      "execution_count": 23,
      "outputs": [
        {
          "output_type": "execute_result",
          "data": {
            "text/plain": [
              "((649, 15), (163, 15))"
            ]
          },
          "metadata": {
            "tags": []
          },
          "execution_count": 23
        }
      ]
    },
    {
      "cell_type": "code",
      "metadata": {
        "id": "6eIV3h1d6cKl",
        "colab_type": "code",
        "outputId": "297cc598-ef5c-4f94-893e-3172faf4fc83",
        "colab": {
          "base_uri": "https://localhost:8080/",
          "height": 34
        }
      },
      "source": [
        "#train, val\n",
        "train, val = train_test_split(train, \n",
        "                              train_size=0.80, \n",
        "                              test_size=0.20, \n",
        "                              stratify=train['won'], \n",
        "                              random_state=42)\n",
        "train.shape, val.shape"
      ],
      "execution_count": 24,
      "outputs": [
        {
          "output_type": "execute_result",
          "data": {
            "text/plain": [
              "((519, 15), (130, 15))"
            ]
          },
          "metadata": {
            "tags": []
          },
          "execution_count": 24
        }
      ]
    },
    {
      "cell_type": "code",
      "metadata": {
        "id": "8sy-nH176l18",
        "colab_type": "code",
        "colab": {}
      },
      "source": [
        "#target and features\n",
        "target = 'won'\n",
        "#drop target \n",
        "train_features = train.drop(columns=[target])\n",
        "#numeric features\n",
        "num_feat = train_features.select_dtypes(include='number').columns.tolist()\n",
        "#Get a series with the cardinality of the nonnumeric features\n",
        "cardinality = train_features.select_dtypes(exclude='number').nunique()\n",
        "#Get a list of all categorical features with cardinality <= 60\n",
        "cat_feat = cardinality[cardinality <= 60].index.tolist()\n",
        "# Combine the lists \n",
        "features = num_feat + cat_feat"
      ],
      "execution_count": 0,
      "outputs": []
    },
    {
      "cell_type": "code",
      "metadata": {
        "id": "sjL2g46464iL",
        "colab_type": "code",
        "colab": {}
      },
      "source": [
        "# Arrange data into X features matrix and y target vector \n",
        "X_train = train[features]\n",
        "y_train = train[target]\n",
        "X_val = val[features]\n",
        "y_val = val[target]\n",
        "X_test = test[features]\n",
        "y_test = test[target]"
      ],
      "execution_count": 0,
      "outputs": []
    },
    {
      "cell_type": "code",
      "metadata": {
        "id": "WaSSbmLhzoou",
        "colab_type": "code",
        "outputId": "55874eb8-552d-4f41-c317-f920a26285f6",
        "colab": {
          "base_uri": "https://localhost:8080/",
          "height": 212
        }
      },
      "source": [
        "!pip install category_encoders"
      ],
      "execution_count": 27,
      "outputs": [
        {
          "output_type": "stream",
          "text": [
            "Requirement already satisfied: category_encoders in /usr/local/lib/python3.6/dist-packages (2.1.0)\n",
            "Requirement already satisfied: numpy>=1.11.3 in /usr/local/lib/python3.6/dist-packages (from category_encoders) (1.17.4)\n",
            "Requirement already satisfied: statsmodels>=0.6.1 in /usr/local/lib/python3.6/dist-packages (from category_encoders) (0.10.2)\n",
            "Requirement already satisfied: scikit-learn>=0.20.0 in /usr/local/lib/python3.6/dist-packages (from category_encoders) (0.21.3)\n",
            "Requirement already satisfied: scipy>=0.19.0 in /usr/local/lib/python3.6/dist-packages (from category_encoders) (1.3.3)\n",
            "Requirement already satisfied: patsy>=0.4.1 in /usr/local/lib/python3.6/dist-packages (from category_encoders) (0.5.1)\n",
            "Requirement already satisfied: pandas>=0.21.1 in /usr/local/lib/python3.6/dist-packages (from category_encoders) (0.25.3)\n",
            "Requirement already satisfied: joblib>=0.11 in /usr/local/lib/python3.6/dist-packages (from scikit-learn>=0.20.0->category_encoders) (0.14.0)\n",
            "Requirement already satisfied: six in /usr/local/lib/python3.6/dist-packages (from patsy>=0.4.1->category_encoders) (1.12.0)\n",
            "Requirement already satisfied: pytz>=2017.2 in /usr/local/lib/python3.6/dist-packages (from pandas>=0.21.1->category_encoders) (2018.9)\n",
            "Requirement already satisfied: python-dateutil>=2.6.1 in /usr/local/lib/python3.6/dist-packages (from pandas>=0.21.1->category_encoders) (2.6.1)\n"
          ],
          "name": "stdout"
        }
      ]
    },
    {
      "cell_type": "code",
      "metadata": {
        "id": "yfdmHzBz0LXY",
        "colab_type": "code",
        "outputId": "ca6e94b7-1270-4384-afe2-e65830f4b114",
        "colab": {
          "base_uri": "https://localhost:8080/",
          "height": 52
        }
      },
      "source": [
        "import category_encoders as ce\n",
        "from sklearn.impute import SimpleImputer\n",
        "from sklearn.ensemble import RandomForestClassifier\n",
        "from sklearn.pipeline import make_pipeline\n",
        "from sklearn.preprocessing import StandardScaler\n",
        "\n",
        "pipeline = make_pipeline(\n",
        "    ce.OneHotEncoder(use_cat_names=True),\n",
        "    SimpleImputer(),\n",
        "    StandardScaler(),\n",
        "    RandomForestClassifier(n_estimators=100, \n",
        "                           n_jobs=-1, \n",
        "                           min_samples_leaf=1, \n",
        "                           max_depth=7, \n",
        "                           class_weight='balanced',\n",
        "                           max_features=8, \n",
        "                           )\n",
        ")\n",
        "\n",
        "# Fit on train\n",
        "pipeline.fit(X_train, y_train)\n",
        "\n",
        "# Score on Train/Val\n",
        "print('Training Accuracy', pipeline.score(X_train, y_train))\n",
        "print('Validation Accuracy', pipeline.score(X_val, y_val))\n",
        "\n",
        "# Predict on Test Data\n",
        "y_pred_rfc = pipeline.predict(X_test)"
      ],
      "execution_count": 28,
      "outputs": [
        {
          "output_type": "stream",
          "text": [
            "Training Accuracy 0.9364161849710982\n",
            "Validation Accuracy 0.8076923076923077\n"
          ],
          "name": "stdout"
        }
      ]
    },
    {
      "cell_type": "code",
      "metadata": {
        "id": "PISX4Ze_7hs3",
        "colab_type": "code",
        "outputId": "9148fc7d-3f49-4461-c2ec-6f97ded2f5b2",
        "colab": {
          "base_uri": "https://localhost:8080/",
          "height": 34
        }
      },
      "source": [
        "from sklearn.metrics import accuracy_score\n",
        "print('Test Accuracy for Random Forest', accuracy_score(y_test, y_pred_rfc))"
      ],
      "execution_count": 29,
      "outputs": [
        {
          "output_type": "stream",
          "text": [
            "Test Accuracy for Random Forest 0.7423312883435583\n"
          ],
          "name": "stdout"
        }
      ]
    },
    {
      "cell_type": "code",
      "metadata": {
        "id": "9LQP0Jhp747i",
        "colab_type": "code",
        "outputId": "a0174fa4-dfc6-4a44-dd01-a8ca0e033cfd",
        "colab": {
          "base_uri": "https://localhost:8080/",
          "height": 863
        }
      },
      "source": [
        "#feature importances\n",
        "model = pipeline.named_steps['randomforestclassifier']\n",
        "encoder = pipeline.named_steps['onehotencoder']\n",
        "encoded_columns = encoder.transform(X_val).columns\n",
        "importances = pd.Series(model.feature_importances_, encoded_columns)\n",
        "plt.figure(figsize=(10,15))\n",
        "importances.sort_values().plot.barh(color='blue');"
      ],
      "execution_count": 30,
      "outputs": [
        {
          "output_type": "display_data",
          "data": {
            "image/png": "[encoded data removed]",
            "text/plain": [
              "<Figure size 720x1080 with 1 Axes>"
            ]
          },
          "metadata": {
            "tags": []
          }
        }
      ]
    },
    {
      "cell_type": "code",
      "metadata": {
        "id": "u6tUQK3Y9jYg",
        "colab_type": "code",
        "colab": {}
      },
      "source": [
        "#with XG Boost\n"
      ],
      "execution_count": 0,
      "outputs": []
    }
  ]
}